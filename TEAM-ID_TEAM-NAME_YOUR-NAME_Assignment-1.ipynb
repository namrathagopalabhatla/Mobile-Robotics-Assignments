{
 "cells": [
  {
   "cell_type": "markdown",
   "metadata": {},
   "source": [
    "# Assignment 1: Transformations\n",
    "\n",
    "\n",
    "TEAM-ID:17\n",
    "<br>\n",
    "TEAM-NAME: no-flux-given  \n",
    "YOUR-ID:   \n",
    "YOUR-NAME:    \n",
    "\n",
    "(Although you work in groups, both the students have to submit to Moodle, hence there's name field above)"
   ]
  },
  {
   "cell_type": "markdown",
   "metadata": {},
   "source": [
    "# Instructions\n",
    "- Please check Moodle for \"TEAM-ID\" and \"TEAM-NAME\" fields above. Some of your names have been edited because of redundancy/simplicity. Instructions for submitting the assignment through GitHub Classrooms/Moodle has been uploaded on Moodle. Any clarifications will be made there itself.\n",
    "- Code must be written in Python in Jupyter Notebooks. We highly recommend using anaconda distribution or at the minimum, virtual environments for this assignment. See `./misc/installation` for detailed step-by-step instructions about the installation setup.\n",
    "- Both the team members must submit the zip file.\n",
    "- For this assignment, you will be using Open3D extensively. Refer to [Open3D Documentation](http://www.open3d.org/docs/release/): you can use the in-built methods and **unless explicitly mentioned**, don't need to code from scratch for this assignment. Make sure your code is modular since you will be reusing them for future assignments.\n",
    "- Take a look at the entire assignment. The descriptive questions at the end might have a clue if you are stuck somewhere.\n",
    "- Answer the descriptive questions in your own words with context & clarity. Do not just copy-paste from some Wikipedia page. You will be evaluated accordingly.\n",
    "- Please call the visualization functions only when they are asked. They are asked explicitly at the end of every section.\n",
    "- You could split the Jupyter Notebook cells where `TODO` is written, but please try to avoid splitting/changing the structure of other cells."
   ]
  },
  {
   "cell_type": "code",
   "execution_count": 1,
   "metadata": {},
   "outputs": [],
   "source": [
    "import open3d as o3d\n",
    "import copy\n",
    "import numpy as np\n",
    "from scipy.linalg import logm\n",
    "from scipy.spatial.transform import Rotation as R\n",
    "from scipy.optimize import fsolve\n",
    "from time import sleep\n",
    "import math"
   ]
  },
  {
   "cell_type": "markdown",
   "metadata": {},
   "source": [
    "# 1. Getting started with Open3D\n",
    "## 1.1 Converting RGBD image into Point Cloud\n",
    "\n",
    "\n",
    "In your robotics journey, it is common to be given just the depth images along with camera parameters in a generic dataset and you'd want to build a 3D data representation out of it, for example, a point cloud. You will understand the math behind these concepts in detail during Vision classes, for now, you can use the in-built functions as a black box.\n",
    "- Below are the given RGB and D images from SUN RGB-D dataset ([S.Song, CVPR 2015](https://rgbd.cs.princeton.edu/)). \n",
    "![low-res-RGBD.resized.png](./misc/low-res-RGBD.png)\n",
    "\n",
    "- Read these two images `color.jpg` and `depth.png` given in current folder using Open3D. Convert it to a point cloud using the default camera parameters (`o3d.camera.PinholeCameraIntrinsicParameters.PrimeSenseDefault`).\n",
    "Then,\n",
    "- Create a \"world\" frame $A$ and combine this (just use $+$ operator) with the above point cloud and save it as `scene.pcd`. Put it aside for now.\n",
    "- Write a simple function `one_one` to visualize `scene.pcd`."
   ]
  },
  {
   "cell_type": "code",
   "execution_count": null,
   "metadata": {},
   "outputs": [],
   "source": [
    "##############################################################################\n",
    "# TODO: Do tasks described in 1.1                                            #\n",
    "##############################################################################\n",
    "# Replace \"pass\" statement with your code\n",
    "def one_one():\n",
    "    color = o3d.io.read_image(\"color.jpg\")\n",
    "    depth = o3d.io.read_image(\"depth.png\")\n",
    "    rgbd_image = o3d.geometry.RGBDImage.create_from_sun_format(color, depth)\n",
    "    pcd = o3d.geometry.PointCloud.create_from_rgbd_image(\n",
    "        rgbd_image, o3d.camera.PinholeCameraIntrinsic(o3d.camera.PinholeCameraIntrinsicParameters.PrimeSenseDefault))\n",
    "    pcd.transform([[1, 0, 0, 0], [0, -1, 0, 0], [0, 0, -1, 0], [0, 0, 0, 1]])\n",
    "    mesh = o3d.geometry.TriangleMesh.create_coordinate_frame()\n",
    "    \n",
    "    world_pcd = mesh.sample_points_uniformly(number_of_points=10000)\n",
    "    \n",
    "    scene_pcd = world_pcd + pcd\n",
    "    \n",
    "    o3d.io.write_point_cloud(\"scene.pcd\", scene_pcd)\n",
    "    o3d.visualization.draw_geometries([scene_pcd])\n",
    "##############################################################################\n",
    "#                             END OF YOUR CODE                               #\n",
    "##############################################################################"
   ]
  },
  {
   "cell_type": "markdown",
   "metadata": {},
   "source": [
    "### Question for 1.1\n",
    "\n",
    "- In the next code cell, call the function `one_one` here showing `scene.pcd`."
   ]
  },
  {
   "cell_type": "code",
   "execution_count": null,
   "metadata": {},
   "outputs": [],
   "source": [
    "#uncomment the following and add input parameters if any\n",
    "one_one()"
   ]
  },
  {
   "cell_type": "markdown",
   "metadata": {},
   "source": [
    "# 2. Rotations, Euler angles and Gimbal Lock\n",
    "\n",
    "## 2.1 Rotating an object\n",
    "\n",
    "The objective here is to roughly simulate an object moving on a ground.\n",
    "\n",
    "- Generate a cube at some point on the ground and create another frame $B$ at the center of this object. Combine these both as a single point cloud `cube.pcd`. (You can pick a point on the ground by using the `get_picked_points` method of the class `open3d.visualization.VisualizerWithEditing`.)\n",
    "- Now read both the point clouds `scene.pcd` and `cube.pcd` in a script. Whatever tasks you do below are on the object `cube.pcd` (along with the axes $B$) with `scene.pcd` in the background (static).\n",
    "- Given a sequence of **ZYX Euler** angles $[30^{\\circ}, 90^{\\circ}, 45^{\\circ}]$, generate the rotation. In our case, our object (with its respective axis) undergoes rotation with the background being fixed (with its respective axis).\n",
    "- Note: Throughout this assignment, we will be using the standard **ZYX** Euler angle convention.\n",
    "- Write a function `two_one` to show the above by **animation** (cube rotating along each axis one by one).\n",
    "    - *Hint: Use Open3D's non-blocking visualization and discretize the rotation to simulate the animation. For example, if you want to rotate by $30^{\\circ}$ around a particular axis, do in increments of $5^{\\circ}$ 6 times to make it look like an animation.*"
   ]
  },
  {
   "cell_type": "code",
   "execution_count": null,
   "metadata": {},
   "outputs": [],
   "source": [
    "##############################################################################\n",
    "# TODO: Do tasks described in 2.1                                            #\n",
    "##############################################################################\n",
    "# Replace \"pass\" statement with your code\n",
    "def two_one():\n",
    "    side = 1.0\n",
    "    cube = o3d.geometry.TriangleMesh.create_box(side, side, side)\n",
    "    pcd = cube.sample_points_uniformly(number_of_points=10000000)\n",
    "    center = [side/2, side/2, side/2]\n",
    "\n",
    "    vis = o3d.visualization.VisualizerWithEditing()\n",
    "    vis.create_window()\n",
    "    vis.add_geometry(pcd)\n",
    "    vis.run()  # user picks points\n",
    "    vis.destroy_window()\n",
    "    \n",
    "    picked = vis.get_picked_points()\n",
    "    points = np.asarray(pcd.points)\n",
    "    if len(picked) == 0:\n",
    "        link = np.zeros((3, 1))\n",
    "    \n",
    "    elif len(picked) >= 1:\n",
    "        picked = picked[0]\n",
    "        link = np.array(points[picked])\n",
    "        link = np.array(link).reshape(3, 1)\n",
    "\n",
    "    cube_new = cube.translate(link)\n",
    "    pcd_new = cube_new.sample_points_uniformly(number_of_points=10000000)\n",
    "\n",
    "    center = np.array(center).reshape(3,1)\n",
    "    new_center = link + center\n",
    "    new_center = np.array(new_center).reshape(3, 1)\n",
    "    cube_new.compute_vertex_normals()\n",
    "    cube_paint = cube_new.paint_uniform_color([0.1, 0.1, 0.7])\n",
    "\n",
    "    coordinate = o3d.geometry.TriangleMesh.create_coordinate_frame(size=side+0.5)\n",
    "    coordinate = coordinate.translate(center)\n",
    "    coordinate = coordinate.translate(link)\n",
    "    coordinate.compute_vertex_normals()\n",
    "\n",
    "    mesh = cube_paint + coordinate\n",
    "\n",
    "    mesh_pcd = mesh.sample_points_uniformly(number_of_points=10000000)\n",
    "    o3d.io.write_point_cloud(\"cube.pcd\", mesh_pcd)\n",
    "\n",
    "    scene = o3d.io.read_point_cloud(\"scene.pcd\")\n",
    "    combined = scene + mesh_pcd\n",
    "\n",
    "    source = mesh_pcd\n",
    "    new = o3d.geometry.TriangleMesh.create_coordinate_frame(size=2.0)\n",
    "    new = new.translate(center)\n",
    "    new = new.translate(link)\n",
    "\n",
    "    new = new.sample_points_uniformly(number_of_points=10000000)\n",
    "    target =  new + scene\n",
    "    vis = o3d.visualization.Visualizer()\n",
    "\n",
    "    angle_z = 30\n",
    "    angle_y = 90\n",
    "    angle_x = 45\n",
    "    vis.create_window()\n",
    "    vis.add_geometry(source)\n",
    "    vis.add_geometry(target)\n",
    "\n",
    "    angle = 0\n",
    "    while angle <= angle_z:\n",
    "        if(angle ==0):\n",
    "            i = 0\n",
    "        else:\n",
    "            i = 5\n",
    "        r = R.from_euler('ZYX', [i, 0, 0], degrees=True)\n",
    "        source.rotate(np.array(r.as_matrix()), center=new_center)\n",
    "        vis.update_geometry(source)\n",
    "        vis.poll_events()\n",
    "        vis.update_renderer()\n",
    "        angle += 5\n",
    "        sleep(0.01)\n",
    "\n",
    "    r = R.from_euler('ZYX', [30, 0, 0], degrees=True)\n",
    "    rotation = np.array(r.as_matrix())\n",
    "    y_vector = rotation @ (np.array([0, 1, 0]).reshape(3, 1))\n",
    "\n",
    "    angle = 5\n",
    "    while angle <= angle_y:\n",
    "        if(angle ==0):\n",
    "            i = 0\n",
    "        else:\n",
    "            i = 5 \n",
    "        new = y_vector * np.pi*5/180\n",
    "        source.rotate(source.get_rotation_matrix_from_axis_angle(new), center=new_center)\n",
    "        vis.update_geometry(source)\n",
    "        vis.poll_events()\n",
    "        vis.update_renderer()\n",
    "        angle += 5\n",
    "        sleep(0.1)\n",
    "\n",
    "    r = R.from_euler('ZYX', [30, 90, 0], degrees=True)\n",
    "    rotation = np.array(r.as_matrix())\n",
    "    x_vector = rotation @ (np.array([1, 0, 0]).reshape(3, 1))\n",
    "\n",
    "    angle = 5\n",
    "    while angle <= angle_x:\n",
    "        if(angle ==0):\n",
    "            i = 0\n",
    "        else:\n",
    "            i = 5\n",
    "        new = x_vector * np.pi*5/180\n",
    "        source.rotate(source.get_rotation_matrix_from_axis_angle(new), center=new_center)\n",
    "        vis.update_geometry(source)\n",
    "        vis.poll_events()\n",
    "        vis.update_renderer()\n",
    "        angle += 5\n",
    "        sleep(0.01)\n",
    "\n",
    "    sleep(4.0)\n",
    "    vis.destroy_window()\n",
    "##############################################################################\n",
    "#                             END OF YOUR CODE                               #\n",
    "##############################################################################\n"
   ]
  },
  {
   "cell_type": "markdown",
   "metadata": {},
   "source": [
    "### Question for 2.1\n",
    "\n",
    "- In the next code cell, call the function `two_one` here showing the animation described in section 2.1."
   ]
  },
  {
   "cell_type": "code",
   "execution_count": null,
   "metadata": {},
   "outputs": [],
   "source": [
    "#uncomment the following and add input parameters if any\n",
    "two_one()"
   ]
  },
  {
   "cell_type": "markdown",
   "metadata": {},
   "source": [
    "## 2.2 Euler angle & Gimbal lock\n",
    "\n",
    "Code the following yourself from scratch (Refer Craig book - Section: $Z-Y-X$ Euler angles - same conventions/notations followed).\n",
    "\n",
    "- Case 1: Given the rotation matrix $M_{given}$ below, extract Euler angles $\\alpha , \\beta ,\\gamma$. Convert it back to the rotation matrix $M_{recovered}$ from Euler angles.\n",
    "\n",
    "    $$M(\\alpha , \\beta ,\\gamma)=\\left[\\begin{array}{rrr}0.26200263 & -0.19674724 & 0.944799 \\\\0.21984631 & 0.96542533 & 0.14007684 \\\\\n",
    "    -0.93969262 & 0.17101007 & 0.29619813\\end{array}\\right] $$\n",
    "\n",
    "    After coding it from scratch, check your calculations using `scipy.spatial.transform.Rotation`. (Mandatory)\n",
    "\n",
    "- Case 2: Given the rotation matrix $N_{given}$, extract Euler angles, and convert back $N_{recovered}$.\n",
    "\n",
    "    $$N(\\alpha , \\beta ,\\gamma)=\\left[\\begin{array}{rrr}0 & -0.173648178 &  0.984807753 \\\\0 & 0.984807753 & 0.173648178 \\\\\n",
    "    -1 & 0 & 0\\end{array}\\right] $$\n",
    "\n",
    "    Again use `scipy` and check its output. If `scipy` is showing any warnings on any of the above cases, explain it in \"**Questions for 2.2**\" (last question). Write code in the next cell.\n",
    "    \n",
    "- (Optional) Case 3: Do the above two for quaternion using scipy functions, i.e. given the rotation matrix, extract quaternion and convert back."
   ]
  },
  {
   "cell_type": "code",
   "execution_count": 5,
   "metadata": {
    "deletable": false,
    "editable": false
   },
   "outputs": [],
   "source": [
    "##############################################################################\n",
    "# DON'T EDIT\n",
    "M_given =  np.array([[0.26200263, -0.19674724, 0.944799],\n",
    "                     [0.21984631, 0.96542533, 0.14007684],\n",
    "                     [-0.93969262, 0.17101007, 0.29619813]])\n",
    "\n",
    "N_given = np.array([[0,-0.173648178,0.984807753],\n",
    "                    [0, 0.984807753, 0.173648178],\n",
    "                    [-1, 0, 0]])"
   ]
  },
  {
   "cell_type": "code",
   "execution_count": 6,
   "metadata": {},
   "outputs": [],
   "source": [
    "# TODO: Do tasks described in 2.2                                            #\n",
    "##############################################################################\n",
    "# Replace \"pass\" statement with your code\n",
    "def euler2rot(alpha, beta, gamma):\n",
    "    \n",
    "    z = np.array([[math.cos(alpha), -math.sin(alpha), 0], \n",
    "                   [math.sin(alpha), math.cos(alpha), 0],\n",
    "                   [0, 0, 1]])\n",
    "    y = np.array([[math.cos(beta), 0, math.sin(beta)], \n",
    "                   [0, 1, 0],\n",
    "                   [-math.sin(beta), 0, math.cos(beta)]])\n",
    "    x = np.array([[1, 0, 0], \n",
    "                   [0, math.cos(gamma), -math.sin(gamma)],\n",
    "                   [0, math.sin(gamma), math.cos(gamma)]])\n",
    "    recovered = np.dot(z, np.dot(y, x))\n",
    "    return recovered"
   ]
  },
  {
   "cell_type": "code",
   "execution_count": 9,
   "metadata": {},
   "outputs": [
    {
     "name": "stdout",
     "output_type": "stream",
     "text": [
      "Calculations using scipy:\n",
      "Euler Angles from Rotation matrix: [0.69813171 1.22173048 0.52359878]\n",
      "Rotation matrix from Euler Angles: \n",
      "[[ 0.26200263 -0.19674724  0.944799  ]\n",
      " [ 0.21984631  0.96542534  0.14007684]\n",
      " [-0.93969262  0.17101007  0.29619813]]\n"
     ]
    }
   ],
   "source": [
    "#Case 1 \n",
    "\n",
    "m = math.sqrt(M_given[0,0]**2 + M_given[1,0]**2)\n",
    "\n",
    "alpha = math.atan2(M_given[1,0],M_given[0,0]) \n",
    "beta = math.atan2(-M_given[2,0],m)\n",
    "gamma = math.atan2(M_given[2,1],M_given[2,2])\n",
    "eulerm = [alpha,beta,gamma]\n",
    "\n",
    "M_recovered = euler2rot(alpha, beta, gamma)\n",
    "\n",
    "print(\"Calculations using scipy:\")\n",
    "r = R.from_matrix(M_given)\n",
    "e = r.as_euler('ZYX')\n",
    "print(\"Euler Angles from Rotation matrix: \" + str(e))\n",
    "\n",
    "r = R.from_euler('ZYX', e)\n",
    "print(\"Rotation matrix from Euler Angles: \\n\" + str(r.as_matrix()))"
   ]
  },
  {
   "cell_type": "code",
   "execution_count": 10,
   "metadata": {},
   "outputs": [
    {
     "name": "stdout",
     "output_type": "stream",
     "text": [
      "Calculations using scipy:\n",
      "Euler Angles from Rotation matrix: [0.17453293 1.57079633 0.        ]\n",
      "Rotation matrix from Euler Angles: \n",
      "[[ 0.00000000e+00 -1.73648178e-01  9.84807753e-01]\n",
      " [ 0.00000000e+00  9.84807753e-01  1.73648178e-01]\n",
      " [-1.00000000e+00  0.00000000e+00 -5.55111512e-17]]\n"
     ]
    },
    {
     "name": "stderr",
     "output_type": "stream",
     "text": [
      "C:\\Users\\sagri\\anaconda3\\envs\\mr_assignment1\\lib\\site-packages\\scipy\\spatial\\transform\\rotation.py:133: UserWarning: Gimbal lock detected. Setting third angle to zero since it is not possible to uniquely determine all angles.\n",
      "  warnings.warn(\"Gimbal lock detected. Setting third angle to zero since\"\n"
     ]
    }
   ],
   "source": [
    "#Case 2\n",
    "\n",
    "beta = math.radians(90); #since cos(beta)=0 and sin(beta)=1\n",
    "alpha = 0; #assumption\n",
    "gamma = math.atan2(N_given[0,1], N_given[1,1])\n",
    "eulern = np.array([alpha, beta, gamma])\n",
    "\n",
    "N_recovered = euler2rot(alpha, beta, gamma)\n",
    "\n",
    "print(\"Calculations using scipy:\")\n",
    "r = R.from_matrix(N_given)\n",
    "e = r.as_euler('ZYX')\n",
    "print(\"Euler Angles from Rotation matrix: \" + str(e))\n",
    "\n",
    "r = R.from_euler('ZYX', e)\n",
    "print(\"Rotation matrix from Euler Angles: \\n\" + str(r.as_matrix()))"
   ]
  },
  {
   "cell_type": "markdown",
   "metadata": {},
   "source": [
    "### Code for 2.2 Optional Section "
   ]
  },
  {
   "cell_type": "code",
   "execution_count": 11,
   "metadata": {},
   "outputs": [
    {
     "name": "stdout",
     "output_type": "stream",
     "text": [
      "Quaternion for Case 1: [0.00973605 0.59313249 0.13112033 0.79429624]\n",
      "Quaternion for Case 2: [-0.06162842  0.70441603  0.06162842  0.70441603]\n"
     ]
    }
   ],
   "source": [
    "#Case 1\n",
    "\n",
    "r1 = R.from_matrix(M_given)\n",
    "q1 = r1.as_quat()\n",
    "print(\"Quaternion for Case 1: \" + str(q1))\n",
    "\n",
    "#Case 2\n",
    "\n",
    "r2 = R.from_matrix(N_given)\n",
    "q2 = r2.as_quat()\n",
    "print(\"Quaternion for Case 2: \" + str(q2))\n",
    "\n",
    "##############################################################################\n",
    "#                             END OF YOUR CODE                               #\n",
    "##############################################################################"
   ]
  },
  {
   "cell_type": "markdown",
   "metadata": {},
   "source": [
    "## Questions for 2.2\n",
    "- Have you used `np.arctan` or an any equivalent `atan` function above? Why or why not?   \n",
    "    * Ans: We have used math.atan2(y,x) which returns arctan(y/x) since the relationship between euler angles and the elements of rotation matrix are defined in such a manner. Atan2(y,x) computes tan−1(y/x) but uses the signs of both x and y to identify the quadrant in which the resulting angle lies. A single argument function like 'atan' won't be able to identify that correctly."
   ]
  },
  {
   "cell_type": "markdown",
   "metadata": {},
   "source": [
    "### For Case 1 above,\n",
    "- What Euler angles  $\\alpha , \\beta ,\\gamma$ did you get? Replace `my_array_case1` with your array."
   ]
  },
  {
   "cell_type": "code",
   "execution_count": 12,
   "metadata": {},
   "outputs": [
    {
     "name": "stdout",
     "output_type": "stream",
     "text": [
      "My Euler angles for case 1 are[0.6981317003487097, 1.2217304765297095, 0.5235987753730347]\n"
     ]
    }
   ],
   "source": [
    "# Uncomment and replace my_array_case1 with your array.\n",
    "print(\"My Euler angles for case 1 are\" + str(eulerm))"
   ]
  },
  {
   "cell_type": "markdown",
   "metadata": {},
   "source": [
    "  - Were you able to recover back your rotation matrix when you converted it from Euler angles? Why/why not? Replace `M_given` and `M_recovered` with your matrices below and explain \"why/why not\" after this code snippet."
   ]
  },
  {
   "cell_type": "code",
   "execution_count": 13,
   "metadata": {},
   "outputs": [
    {
     "name": "stdout",
     "output_type": "stream",
     "text": [
      "For case 1, it is True I could recover the original matrix.\n"
     ]
    }
   ],
   "source": [
    "# Uncomment and Replace M_given and M_recovered with your matrices below.\n",
    "error = np.linalg.norm(logm(M_given @ M_recovered.T))\n",
    "print(\"For case 1, it is \" + str(error<0.0001) + \" I could recover the original matrix.\")"
   ]
  },
  {
   "cell_type": "markdown",
   "metadata": {},
   "source": [
    "- Why/why not? Based on your observations here, is there any problem with Euler angle representation for Case 1? If yes, what is it?\n",
    "\n",
    "    - Ans:     There is no problem with euler angle representation in case 1. Therefore, we were easily able to recover the rotation matrix from euler angles. The components of rotation matrix are just direction cosines with euler angles as arguments. The rotation matrix defined by euler angles is as follows: \n",
    "    \n",
    "$\\begin{bmatrix}\n",
    "c\\alpha c\\beta & c\\alpha s\\beta s\\gamma - s\\alpha c\\gamma & c\\alpha s\\beta c\\gamma + s\\alpha s\\gamma\\\\\n",
    "s\\alpha c\\beta & s\\alpha s\\beta s\\gamma + c\\alpha c\\gamma & s\\alpha s\\beta c\\gamma - c\\alpha s\\gamma\\\\\n",
    "-s\\beta & c\\beta s\\gamma & c\\beta c\\gamma\\\\\n",
    "\\end{bmatrix}$"
   ]
  },
  {
   "cell_type": "markdown",
   "metadata": {},
   "source": [
    "### Repeat the above for Case 2."
   ]
  },
  {
   "cell_type": "code",
   "execution_count": 14,
   "metadata": {},
   "outputs": [
    {
     "name": "stdout",
     "output_type": "stream",
     "text": [
      "My Euler angles for case 2 are[ 0.          1.57079633 -0.17453293]\n",
      "For case 2, it is True I could recover the original matrix.\n"
     ]
    }
   ],
   "source": [
    "# Uncomment and Replace N_given and N_recovered with your matrices below.\n",
    "print(\"My Euler angles for case 2 are\" + str(eulern))\n",
    "error = np.linalg.norm(logm(N_given @ N_recovered.T))\n",
    "print(\"For case 2, it is \" + str(error<0.0001) + \" I could recover the original matrix.\")"
   ]
  },
  {
   "cell_type": "markdown",
   "metadata": {},
   "source": [
    "* Why/why not? Based on your observations here, is there any problem with Euler angle representation for Case 2? If yes, what is it?\n",
    "\n",
    "    * Ans: Yes there is a problem in this case because multiple solutions for euler angles exist and this situation is called gimbal lock.    \n",
    "    \n",
    "    \n",
    "* Explain any more problems with Euler angle representation. Explain what you understand by Gimbal lock (concisely in your own words). You could revisit this question in the section 2.4.\n",
    "    * Ans: At a gimbal lock, axes of two angular rotations are aligned which results in infinite solutions for euler angles. It can also be said that the representation loses a degree of freedom in a gimbal lock."
   ]
  },
  {
   "cell_type": "markdown",
   "metadata": {},
   "source": [
    "- When you used `scipy.spatial.transform.Rotation` for the above 2 cases,\n",
    "    - Have you used `zyx` above in `r.as_euler('')` argument? Why or why not? Explain the difference between extrinsic and instrinsic rotations with equivalent technical names from Craig book?\n",
    "        * Ans: We used 'ZYX' in r.as_ruler('') as it is case sensitive. Upper case gives intrinsic rotation and lower case gives extrinsic rotation. Set of intrinsic rotations is also called euler angles and set of extrinsic rotations is called fixed angles. Extrinsic: Each of the three rotations takes place about an axis in the fixed reference frame. Intrinsic: Each rotation is performed about an axis of the moving system rather than one of the fixed reference.\n",
    "    - Has `scipy` shown any warnings on any of the above cases? If yes, explain it.\n",
    "        * Ans: It shows a warning in the case of gimbal lock (Case 2) where there can be infinite solutions for euler angles. Hence, scipy gives only one solution where third angle (gamma) is set to zero.\n",
    "    - (Optional) For Case 3 above (quaternion) which you did using scipy, did you observe any problem with quaternion? Depending on your observations, which is better? Quaternion or Euler angles? And why?\n",
    "         * Ans: The scipy function for quaternion didn't give any warning in Case 2 implying that gimbal lock is avoided. Quaternion might be better than euler angles in such cases.\n"
   ]
  },
  {
   "cell_type": "markdown",
   "metadata": {},
   "source": [
    "## 2.3 Rotation matrix as an Operator\n",
    "This question will help you in your understanding of [Rotator-transform (Vector-frame) equivalence](https://www.notion.so/saishubodh/Lecture-2-Transformations-11d69d8cef2d4cd195a98fa7d33224e1#f90ece4f5e374743bfed47e46a83ecfe).\n",
    "\n",
    "![image.png](./misc/xyz-frame.png)\n",
    "Consider the frame $XYZ$ in the above image. Say you have a vector $x_1=[0,\\sqrt{3},0]$. Now you want to rotate it such that you end up at $x_2=[1,1,1]$ through a sequence of Euler angle rotations. Your goal is to find out those $\\alpha, \\beta \\: \\& \\: \\gamma$ ($ZYX$). We will follow this order whenever we refer to it below.\n",
    "\n",
    "First, properly understand the so-called \"Rotator-transform equivalence\" to figure out what are the terms of rotation matrix. Then, put the math on paper and you will end up with a set of non-linear equations. Write the set of linear equations in LaTeX here:"
   ]
  },
  {
   "cell_type": "markdown",
   "metadata": {},
   "source": [
    "$$ \\textbf{Ans: }(cos\\alpha \\times sin\\beta \\times sin\\gamma - sin\\alpha \\times cos\\gamma) - 1/\\sqrt{3} = 0 \\\\ (sin\\alpha \\times sin\\beta \\times sin\\gamma + cos\\alpha \\times cos\\gamma) - 1/\\sqrt{3} = 0 \\\\\n",
    "   cos\\beta \\times sin\\gamma - 1/\\sqrt{3} = 0 $$"
   ]
  },
  {
   "cell_type": "markdown",
   "metadata": {},
   "source": [
    "Solve these equations using `fsolve` from `scipy.optimize` as follows: (Come back and answer the following questions after coding it in the next block)\n",
    "- `case1`: First, solve it with an initialization of (0,0,0). Check if your answer is correct using `np.isclose`.\n",
    "    * What Euler angles did you get? Answer in $\\alpha, \\beta \\: \\& \\: \\gamma$ format:\n",
    "        * Ans: *$a_1, b_1, c_1$ = -0.39780642, -93.75690197, 0.71372205 (in radians)* \n",
    "- `case2`: Now, forget about the solver for a moment: Can you visualize and think of sequence of rotations one by one to reach the final position (which is different than previous set of rotations)? Now, validate your answer by giving (your answer $\\pm 5$) as initialization.\n",
    "    * What Euler angles did you get? Answer in $\\alpha, \\beta \\: \\& \\: \\gamma$ format:\n",
    "        * Ans: *$a_2, b_2, c_2$ = 0.00969376, 0.79019829, 0.96218762 (in radians)*"
   ]
  },
  {
   "cell_type": "code",
   "execution_count": 7,
   "metadata": {
    "deletable": false,
    "editable": false
   },
   "outputs": [],
   "source": [
    "##############################################################################\n",
    "# DON'T EDIT\n",
    "x_1 = np.array([0,np.sqrt(3),0])\n",
    "x_2 = np.array([1,1,1])"
   ]
  },
  {
   "cell_type": "code",
   "execution_count": 15,
   "metadata": {},
   "outputs": [],
   "source": [
    "##############################################################################\n",
    "# TODO: Do tasks described in 2.3                                            #\n",
    "##############################################################################\n",
    "# Replace \"pass\" statement with your code\n",
    "\n",
    "def func(x):\n",
    "    return [math.cos(x[0])*math.sin(x[1])*math.sin(x[2]) - math.sin(x[0])*math.cos(x[2]) - 1/math.sqrt(3), \n",
    "            math.sin(x[0])*math.sin(x[1])*math.sin(x[2]) + math.cos(x[0])*math.cos(x[2]) - 1/math.sqrt(3),\n",
    "            math.cos(x[1])*math.sin(x[2]) - 1/math.sqrt(3)]\n",
    "\n",
    "#Case 1\n",
    "init = [0,0,0]\n",
    "root = fsolve(func, init)\n",
    "[a1, b1, c1] = root\n",
    "\n",
    "\n",
    "#Case 2\n",
    "five = math.radians(5)\n",
    "init = [0-five, np.pi/4-five,  np.arccos(math.sqrt(3)/3)-five]\n",
    "root2 = fsolve(func, init)\n",
    "[a2, b2, c2] = root2\n",
    "\n",
    "##############################################################################\n",
    "#                             END OF YOUR CODE                               #\n",
    "##############################################################################"
   ]
  },
  {
   "cell_type": "code",
   "execution_count": 16,
   "metadata": {},
   "outputs": [],
   "source": [
    "# From Section 2.2, use the function which takes Euler angles and gives Rotation matrix as output.\n",
    "# Uncomment and replace `r_mat` with the name of the function. (Do NOT edit anything else)\n",
    "\n",
    "x_2_obtained_case1 = euler2rot(a1,b1,c1) @ x_1.T #TODO: replace r_mat\n",
    "x_2_obtained_case2 = euler2rot(a2,b2,c2) @ x_1.T #TODO: replace r_mat\n",
    "test = True #TODO: Set this as True"
   ]
  },
  {
   "cell_type": "code",
   "execution_count": 17,
   "metadata": {},
   "outputs": [
    {
     "name": "stdout",
     "output_type": "stream",
     "text": [
      "For case 1, it is True that I could end up at (1,1,1) after rotation.\n",
      "For case 2, it is True that I could end up at (1,1,1) after rotation.\n"
     ]
    }
   ],
   "source": [
    "# DON'T EDIT\n",
    "if test == True:\n",
    "    case1_test = np.isclose(x_2_obtained_case1,  np.array([1.0,1.0,1.0]))\n",
    "    case2_test = np.isclose(x_2_obtained_case2,  np.array([1.0,1.0,1.0]))\n",
    "    print(\"For case 1, it is \" + str(bool(case1_test[0] and case1_test[1] and case1_test[2])) + \n",
    "          \" that I could end up at (1,1,1) after rotation.\")\n",
    "    print(\"For case 2, it is \" + str(bool(case2_test[0] and case2_test[1] and case2_test[2])) + \n",
    "          \" that I could end up at (1,1,1) after rotation.\")"
   ]
  },
  {
   "cell_type": "markdown",
   "metadata": {},
   "source": [
    "## 2.4 Gimbal Lock visualization (Optional)\n",
    "\n",
    "A nice visualization video for gimbal lock is [this](https://www.youtube.com/watch?v=zc8b2Jo7mno). You are about to animate a similar visualization demonstrating gimbal lock 😃.\n",
    "\n",
    "![image.png](./misc/xyz-frame.png)\n",
    "\n",
    "- Write a function `two_four` for the visualization of gimbal lock. Follow the below steps to get the intuition going. Use Open3D for the following.\n",
    "    - Say our frame's initial position is as the above image. Now the final goal at the end of rotation is to get the $Y$ axis pointing in the direction of the vector $(x,y,z)$ that you currently see in the above image. This point is fixed in space and is NOT moving as we rotate our axis.\n",
    "    - For creating that point, you could use a small sphere using `open3d.geometry.create_mesh_sphere`. You already know how to create an axis by now.\n",
    "    - Following our $ZYX$ convention, first rotate your frame about $Z$ axis by an angle, say $-35^{\\circ}$. Then rotate about $Y$ axis by an angle ${\\beta}$ and then about $X$ by say $55^{\\circ}$.\n",
    "        - Are there any specific angle(s) $\\beta$ using which you will **never** reach our point $(x,y,z)$ ?\n",
    "            - When $\\beta$ is $90^\\circ$ and $-90^\\circ$, we enter a gimbal lock and the two axes x and z get aligned which is why we are never able to reach the point $(x,y,z)$\n",
    "        - Under this (these) specific angle(s) of $\\beta$ & different combinations of $\\alpha$ and $\\gamma$, make an animation and clearly show why your $Y$ axis is unable to align in the direction of that vector $(x,y,z)$ using the animation.\n",
    "\n",
    "            If you are unsure to simulate the animation, you could do it as follows:\n",
    "\n",
    "            - You could first fix some $\\alpha$, say $-35^{\\circ}$ & an above value of $\\beta$, you can now vary $\\gamma$ from $-180^{\\circ} \\text{ to }180^{\\circ}$ to simulate the animation.\n",
    "            - Now fix another $\\alpha$, say $45^{\\circ}$ and repeat the above process. So that's 2 specific values of $\\alpha$.\n",
    "            - Show this for all angles of $\\beta$ if there are more than 1.\n",
    "            - Therefore, when the code is run, there should be a minimum of (2 $\\times$ (number of values of $\\beta$)) animations. 2 for values of $\\alpha$, you could show it for even more if you wish to."
   ]
  },
  {
   "cell_type": "code",
   "execution_count": 19,
   "metadata": {},
   "outputs": [],
   "source": [
    "##############################################################################\n",
    "# TODO: Do tasks described in 2.4                                            #\n",
    "##############################################################################\n",
    "# Replace \"pass\" statement with your code\n",
    "def two_four():\n",
    "    #Case 1 alpha = -35, beta = 90\n",
    "    side = 1.0\n",
    "    coordinate = o3d.geometry.TriangleMesh.create_coordinate_frame(size=side)\n",
    "    sphere = o3d.geometry.TriangleMesh.create_sphere(radius=0.1)\n",
    "\n",
    "    angle_z = -35\n",
    "    angle_y = 90\n",
    "    angle_x = 55\n",
    "    vis = o3d.visualization.Visualizer()\n",
    "    vis.create_window()\n",
    "\n",
    "    source = coordinate\n",
    "    target = sphere\n",
    "    vis.add_geometry(source)\n",
    "    vis.add_geometry(target)\n",
    "\n",
    "    angle = 0\n",
    "    while angle >= angle_z:\n",
    "        if(angle ==0):\n",
    "            i = 0\n",
    "        else:\n",
    "            i = -5\n",
    "        r = R.from_euler('ZYX', [i, 0, 0], degrees=True)\n",
    "        source.rotate(np.array(r.as_matrix()), center=(0, 0, 0))\n",
    "        vis.update_geometry(source)\n",
    "        vis.poll_events()\n",
    "        vis.update_renderer()\n",
    "        angle -= 5\n",
    "        sleep(0.5)\n",
    "\n",
    "    r = R.from_euler('ZYX', [angle_z, 0, 0], degrees=True)\n",
    "    rotation = np.array(r.as_matrix())\n",
    "    y_vector = rotation @ (np.array([0, 1, 0]).reshape(3, 1))\n",
    "\n",
    "    angle = 5\n",
    "    while angle <= angle_y:\n",
    "        if(angle ==0):\n",
    "            i = 0\n",
    "        else:\n",
    "            i = 5 \n",
    "        new = y_vector * np.pi*5/180\n",
    "        source.rotate(source.get_rotation_matrix_from_axis_angle(new), center=(0, 0, 0))\n",
    "        vis.update_geometry(source)\n",
    "        vis.poll_events()\n",
    "        vis.update_renderer()\n",
    "        angle += 5\n",
    "        sleep(0.5)\n",
    "\n",
    "    r = R.from_euler('ZYX', [angle_z, angle_y, 0], degrees=True)\n",
    "    rotation = np.array(r.as_matrix())\n",
    "    x_vector = rotation @ (np.array([1, 0, 0]).reshape(3, 1))\n",
    "\n",
    "    angle = -180\n",
    "    while angle <= 180:\n",
    "        new = x_vector * (np.pi*10/180)\n",
    "        source.rotate(source.get_rotation_matrix_from_axis_angle(new), center=(0, 0, 0))\n",
    "        vis.update_geometry(source)\n",
    "        vis.poll_events()\n",
    "        vis.update_renderer()\n",
    "        angle += 10\n",
    "        sleep(0.5)\n",
    "\n",
    "    vis.destroy_window()\n",
    "    \n",
    "    #Case 2 alpha = 45, beta = 90\n",
    "    side = 1.0\n",
    "    coordinate = o3d.geometry.TriangleMesh.create_coordinate_frame(size=side)\n",
    "    sphere = o3d.geometry.TriangleMesh.create_sphere(radius=0.1)\n",
    "\n",
    "    angle_z = 45\n",
    "    angle_y = 90\n",
    "    angle_x = 55\n",
    "    vis = o3d.visualization.Visualizer()\n",
    "    vis.create_window()\n",
    "\n",
    "    source = coordinate\n",
    "    target = sphere\n",
    "    vis.add_geometry(source)\n",
    "    vis.add_geometry(target)\n",
    "\n",
    "    angle = 0\n",
    "    while angle <= angle_z:\n",
    "        if(angle ==0):\n",
    "            i = 0\n",
    "        else:\n",
    "            i = 5\n",
    "        r = R.from_euler('ZYX', [i, 0, 0], degrees=True)\n",
    "        source.rotate(np.array(r.as_matrix()), center=(0, 0, 0))\n",
    "        vis.update_geometry(source)\n",
    "        vis.poll_events()\n",
    "        vis.update_renderer()\n",
    "        angle += 5\n",
    "        sleep(0.5)\n",
    "\n",
    "    r = R.from_euler('ZYX', [angle_z, 0, 0], degrees=True)\n",
    "    rotation = np.array(r.as_matrix())\n",
    "    y_vector = rotation @ (np.array([0, 1, 0]).reshape(3, 1))\n",
    "\n",
    "    angle = 5\n",
    "    while angle <= angle_y:\n",
    "        if(angle ==0):\n",
    "            i = 0\n",
    "        else:\n",
    "            i = 5 \n",
    "        new = y_vector * np.pi*5/180\n",
    "        source.rotate(source.get_rotation_matrix_from_axis_angle(new), center=(0, 0, 0))\n",
    "        vis.update_geometry(source)\n",
    "        vis.poll_events()\n",
    "        vis.update_renderer()\n",
    "        angle += 5\n",
    "        sleep(0.5)\n",
    "\n",
    "    r = R.from_euler('ZYX', [angle_z, angle_y, 0], degrees=True)\n",
    "    rotation = np.array(r.as_matrix())\n",
    "    x_vector = rotation @ (np.array([1, 0, 0]).reshape(3, 1))\n",
    "\n",
    "    angle = -180\n",
    "    while angle <= 180:\n",
    "        new = x_vector * (np.pi*10/180)\n",
    "        source.rotate(source.get_rotation_matrix_from_axis_angle(new), center=(0, 0, 0))\n",
    "        vis.update_geometry(source)\n",
    "        vis.poll_events()\n",
    "        vis.update_renderer()\n",
    "        angle += 10\n",
    "        sleep(0.5)\n",
    "\n",
    "    vis.destroy_window()\n",
    "    \n",
    "    #Case 3 alpha = -35, beta = -90\n",
    "    side = 1.0\n",
    "    coordinate = o3d.geometry.TriangleMesh.create_coordinate_frame(size=side)\n",
    "    sphere = o3d.geometry.TriangleMesh.create_sphere(radius=0.1)\n",
    "\n",
    "    angle_z = -35\n",
    "    angle_y = -90\n",
    "    angle_x = 55\n",
    "    vis = o3d.visualization.Visualizer()\n",
    "    vis.create_window()\n",
    "\n",
    "    source = coordinate\n",
    "    target = sphere\n",
    "    vis.add_geometry(source)\n",
    "    vis.add_geometry(target)\n",
    "\n",
    "    angle = 0\n",
    "    while angle >= angle_z:\n",
    "        if(angle ==0):\n",
    "            i = 0\n",
    "        else:\n",
    "            i = -5\n",
    "        r = R.from_euler('ZYX', [i, 0, 0], degrees=True)\n",
    "        source.rotate(np.array(r.as_matrix()), center=(0, 0, 0))\n",
    "        vis.update_geometry(source)\n",
    "        vis.poll_events()\n",
    "        vis.update_renderer()\n",
    "        angle -= 5\n",
    "        sleep(0.5)\n",
    "\n",
    "    r = R.from_euler('ZYX', [angle_z, 0, 0], degrees=True)\n",
    "    rotation = np.array(r.as_matrix())\n",
    "    y_vector = rotation @ (np.array([0, 1, 0]).reshape(3, 1))\n",
    "\n",
    "    angle = -5\n",
    "    while angle >= angle_y:\n",
    "        new = y_vector * np.pi*(-5)/180\n",
    "        source.rotate(source.get_rotation_matrix_from_axis_angle(new), center=(0, 0, 0))\n",
    "        vis.update_geometry(source)\n",
    "        vis.poll_events()\n",
    "        vis.update_renderer()\n",
    "        angle -= 5\n",
    "        sleep(0.5)\n",
    "\n",
    "    r = R.from_euler('ZYX', [angle_z, angle_y, 0], degrees=True)\n",
    "    rotation = np.array(r.as_matrix())\n",
    "    x_vector = rotation @ (np.array([1, 0, 0]).reshape(3, 1))\n",
    "\n",
    "    angle = -180\n",
    "    while angle <= 180:\n",
    "        new = x_vector * (np.pi*10/180)\n",
    "        source.rotate(source.get_rotation_matrix_from_axis_angle(new), center=(0, 0, 0))\n",
    "        vis.update_geometry(source)\n",
    "        vis.poll_events()\n",
    "        vis.update_renderer()\n",
    "        angle += 10\n",
    "        sleep(0.5)\n",
    "\n",
    "    vis.destroy_window()\n",
    "    \n",
    "    #Case 4 alpha = 45, beta = -90\n",
    "    side = 1.0\n",
    "    coordinate = o3d.geometry.TriangleMesh.create_coordinate_frame(size=side)\n",
    "    sphere = o3d.geometry.TriangleMesh.create_sphere(radius=0.1)\n",
    "\n",
    "    angle_z = 45\n",
    "    angle_y = -90\n",
    "    angle_x = 55\n",
    "    vis = o3d.visualization.Visualizer()\n",
    "    vis.create_window()\n",
    "\n",
    "    source = coordinate\n",
    "    target = sphere\n",
    "    vis.add_geometry(source)\n",
    "    vis.add_geometry(target)\n",
    "\n",
    "    angle = 0\n",
    "    while angle <= angle_z:\n",
    "        if(angle ==0):\n",
    "            i = 0\n",
    "        else:\n",
    "            i = 5\n",
    "        r = R.from_euler('ZYX', [i, 0, 0], degrees=True)\n",
    "        source.rotate(np.array(r.as_matrix()), center=(0, 0, 0))\n",
    "        vis.update_geometry(source)\n",
    "        vis.poll_events()\n",
    "        vis.update_renderer()\n",
    "        angle += 5\n",
    "        sleep(0.5)\n",
    "\n",
    "    r = R.from_euler('ZYX', [angle_z, 0, 0], degrees=True)\n",
    "    rotation = np.array(r.as_matrix())\n",
    "    y_vector = rotation @ (np.array([0, 1, 0]).reshape(3, 1))\n",
    "\n",
    "    angle = -5\n",
    "    while angle >= angle_y:\n",
    "        new = y_vector * np.pi*(-5)/180\n",
    "        source.rotate(source.get_rotation_matrix_from_axis_angle(new), center=(0, 0, 0))\n",
    "        vis.update_geometry(source)\n",
    "        vis.poll_events()\n",
    "        vis.update_renderer()\n",
    "        angle -= 5\n",
    "        sleep(0.5)\n",
    "\n",
    "    r = R.from_euler('ZYX', [angle_z, angle_y, 0], degrees=True)\n",
    "    rotation = np.array(r.as_matrix())\n",
    "    x_vector = rotation @ (np.array([1, 0, 0]).reshape(3, 1))\n",
    "\n",
    "    angle = -180\n",
    "    while angle <= 180:\n",
    "        new = x_vector * (np.pi*10/180)\n",
    "        source.rotate(source.get_rotation_matrix_from_axis_angle(new), center=(0, 0, 0))\n",
    "        vis.update_geometry(source)\n",
    "        vis.poll_events()\n",
    "        vis.update_renderer()\n",
    "        angle += 10\n",
    "        sleep(0.5)\n",
    "\n",
    "    vis.destroy_window()\n",
    "    \n",
    "##############################################################################\n",
    "#                             END OF YOUR CODE                               #\n",
    "##############################################################################"
   ]
  },
  {
   "cell_type": "markdown",
   "metadata": {},
   "source": [
    "> VOILA! You have just animated the famous Gimbal lock problem. If you are curious, read about the [Apollo 11](https://en.wikipedia.org/wiki/Gimbal_lock#On_Apollo_11) Gimbal lock incident.\n",
    "\n",
    "### Questions for 2.4 (Optional)\n",
    "\n",
    "- Mention the value(s) of $\\beta$ here: \n",
    "    * Ans: ${90^\\circ}$ and ${-90^\\circ}$\n",
    "- Now that you understand gimbal lock through visualization, explain it now in matrix form: For the above values of $\\beta$, what does the rotation matrix look like? Can you explain why gimbal lock occurs from the rotation matrix alone? Clue: Use sin/cos formulae. \n",
    "    * Ans:  The rotation matrix in this case ($\\beta=-90^\\circ$)  will be:\n",
    "    $$\n",
    "    \\begin{bmatrix}\n",
    "    0 & -c\\alpha s\\gamma - s\\alpha c\\gamma & -c\\alpha c\\gamma + s\\alpha s\\gamma\\\\\n",
    "    0 & -s\\alpha s\\gamma + c\\alpha c\\gamma & -s\\alpha c\\gamma - c\\alpha s\\gamma\\\\\n",
    "    1 & 0 & 0\\\\\n",
    "    \\end{bmatrix}\n",
    "    =  \\begin{bmatrix}\n",
    "        0 & -sin(\\alpha + \\gamma) & -cos(\\alpha + \\gamma)\\\\\n",
    "        0 & cos(\\alpha + \\gamma) & -sin(\\alpha + \\gamma)\\\\\n",
    "        1 & 0 & 0\\\\\n",
    "        \\end{bmatrix}\n",
    "    $$\n",
    "    \n",
    "    As you can see, there are only two degrees of freedom in this case, $\\beta$ and ($\\alpha+\\gamma$). Therefore we can say that we have lost a degree of freedom which implies that the set of rotations has resulted in a gimbal lock.\n",
    "    Similarly for $\\beta=-90^\\circ$, only two degrees of freedom $\\beta$ and ($\\alpha-\\gamma$) will exist which is again a case of gimbal lock.\n",
    "- Call the function `two_four` for the visualization of gimbal lock written above. "
   ]
  },
  {
   "cell_type": "code",
   "execution_count": 5,
   "metadata": {},
   "outputs": [],
   "source": [
    "#uncomment the following and add input parameters if any\n",
    "two_four()"
   ]
  }
 ],
 "metadata": {
  "celltoolbar": "Edit Metadata",
  "kernelspec": {
   "display_name": "Python 3",
   "language": "python",
   "name": "python3"
  },
  "language_info": {
   "codemirror_mode": {
    "name": "ipython",
    "version": 3
   },
   "file_extension": ".py",
   "mimetype": "text/x-python",
   "name": "python",
   "nbconvert_exporter": "python",
   "pygments_lexer": "ipython3",
   "version": "3.7.4"
  }
 },
 "nbformat": 4,
 "nbformat_minor": 4
}
